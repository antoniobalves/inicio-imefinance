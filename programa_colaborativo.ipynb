import numpy as np
import pandas as pd
import matplotlib.pyplot as plt
import pandas_datareader.data as web
import seaborn as sns

!pip install yfinance --upgrade --no-cache-dir
import yfinance as yf
yf.pdr_override()

!pip install git+https://github.com/quantopian/pyfolio

!pip install pyfolio
import pyfolio as pf
import warnings
warnings.filterwarnings('ignore')

## IMPORTANDO DADOS DO YAHOO - CARTEIRA + BENCHMARK .
## IMPORTANTE REPARAR QUE 'PERIOD = 'X' E' O PERIODO DOS DADOS QUE VC BUSCA . 

tickers = [ "GM", "BG", "AMZN", "^GSPC" ]
dados = web.get_data_yahoo(tickers, period = "2y")["Close"]

dados

dados.head()

dados.tail()

retorno = dados.pct_change()
retorno

retorno_acumulado = ( 1 + retorno ).cumprod()
retorno_acumulado.iloc[0] = 1
retorno_acumulado

carteira = 10000 * retorno_acumulado.iloc[:, :6]
carteira["saldo"] = carteira.sum(axis=1)
carteira["retorno"] = carteira["saldo"].pct_change()
carteira

pf.create_full_tear_sheet( carteira["retorno"], benchmark_rets = retorno["^GSPC"] )
